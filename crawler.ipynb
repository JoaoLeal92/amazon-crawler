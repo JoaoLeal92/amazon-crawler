{
 "cells": [
  {
   "cell_type": "code",
   "execution_count": 1,
   "metadata": {},
   "outputs": [],
   "source": [
    "import os\n",
    "import re\n",
    "from typing import Dict, List\n",
    "from dataclasses import dataclass\n",
    "\n",
    "from selenium import webdriver\n",
    "from selenium.common.exceptions import NoSuchElementException\n",
    "from selenium.webdriver.chrome.options import Options"
   ]
  },
  {
   "cell_type": "code",
   "execution_count": 62,
   "metadata": {},
   "outputs": [],
   "source": [
    "BASE_URL = \"https://www.amazon.com.br/Tablet-Samsung-Galaxy-Wi-Fi-Octa-Core/dp/B08YLDRSYC/ref=gbps_tit_m-4_19e9_c427f22e?smid=A1ZZFT5FULY4LN&pf_rd_p=cdc5728b-732b-443b-88ba-bfcb09ed19e9&pf_rd_s=merchandised-search-4&pf_rd_t=101&pf_rd_i=16209062011&pf_rd_m=A1ZZFT5FULY4LN&pf_rd_r=EPK2XTK4Y6ZKF9B9BJ49\""
   ]
  },
  {
   "cell_type": "code",
   "execution_count": 63,
   "metadata": {},
   "outputs": [],
   "source": [
    "class Crawler:\n",
    "    def __init__(self, driver_path: str) -> None:\n",
    "        self.DRIVER_PATH: str = driver_path\n",
    "        self.driver_options: Options = Options()\n",
    "        self.driver: webdriver.Chrome = None\n",
    "\n",
    "    def set_driver_options(self, opts: List[str]):\n",
    "        for opt in opts:\n",
    "            self.driver_options.add_argument(opt)\n",
    "\n",
    "    def start_crawler(self, implicit_wait_time: int):\n",
    "        self.driver = self._start_driver()\n",
    "        self._set_driver_implicit_wait(implicit_wait_time)\n",
    "        self._maximize_driver_window()\n",
    "    \n",
    "    def _start_driver(self) -> webdriver.Chrome:\n",
    "        return webdriver.Chrome(executable_path=self.DRIVER_PATH, options=self.driver_options)\n",
    "\n",
    "    def _set_driver_implicit_wait(self, wait_time: int):\n",
    "        self.driver.implicitly_wait(wait_time)\n",
    "\n",
    "    def _maximize_driver_window(self):\n",
    "        self.driver.maximize_window()\n",
    "\n",
    "    def navigate_to_url(self, url: str):\n",
    "        self.driver.get(url)\n",
    "\n",
    "    def quit(self):\n",
    "        self.driver.quit()\n",
    "        \n"
   ]
  },
  {
   "cell_type": "code",
   "execution_count": 30,
   "metadata": {},
   "outputs": [],
   "source": [
    "class HtmlDataExtractor:\n",
    "    def __init__(self, crawler):\n",
    "        self.crawler: Crawler = crawler\n",
    "\n",
    "    def find_price_identifier(self, identifier_map: Dict[str, List[str]]) -> str:\n",
    "        for key, identifiers in identifier_map.items():\n",
    "            if key == \"xpath\":\n",
    "                for identifier in identifiers:\n",
    "                    try:\n",
    "                        element = self.crawler.driver.find_element_by_xpath(identifier)\n",
    "                        if element:\n",
    "                            print(\"Achou identificador \", identifier)\n",
    "                            return key, identifier\n",
    "                    except NoSuchElementException:\n",
    "                        pass\n",
    "            elif key == \"class\":\n",
    "                for identifier in identifiers:\n",
    "                    try:\n",
    "                        element = self.crawler.driver.find_element_by_class_name(identifier)\n",
    "                        if element:\n",
    "                            print(\"Achou identificador \", identifier)\n",
    "                            return key, identifier\n",
    "                    except NoSuchElementException:\n",
    "                        pass\n",
    "\n",
    "        return None, None\n",
    "\n",
    "    def get_product_price_by_xpath(self, price_path: str) -> int:\n",
    "        try:\n",
    "            product_price = self._get_element_text_by_xpath(price_path)\n",
    "            formatted_price = self._price_string_to_float(product_price)\n",
    "\n",
    "            return formatted_price\n",
    "        except NoSuchElementException:\n",
    "            return None\n",
    "        except ValueError:\n",
    "            print(f\"Erro na conversão de preço para inteiro\")\n",
    "            return None\n",
    "        except Exception as e:\n",
    "            print(f\"Ocorreu o seguinte erro: {e}\")\n",
    "            return None\n",
    "    \n",
    "    def _get_element_text_by_xpath(self, xpath: str) -> str:\n",
    "        html_element = self.crawler.driver.find_element_by_xpath(xpath)\n",
    "        html_text = html_element.text\n",
    "\n",
    "        return html_text\n",
    "    \n",
    "    def _price_string_to_float(self, price_string: str) -> int:\n",
    "        formatted_string = price_string.replace(\"R$\", \"\").replace(\".\", \"\").replace(\",\",\"\")\n",
    "\n",
    "        int_price = int(formatted_string.strip())\n",
    "        return int_price\n",
    "\n",
    "    def get_original_price_if_exists(self, original_price_class: str) -> int:\n",
    "        try:\n",
    "            original_price_value = self._get_element_text_by_class_name(original_price_class)\n",
    "            formatted_price = self._price_string_to_float(original_price_value)\n",
    "            \n",
    "            return formatted_price\n",
    "        except NoSuchElementException:\n",
    "            return None\n",
    "        except ValueError:\n",
    "            print(f\"Erro na conversão de preço para inteiro\")\n",
    "            return None\n",
    "        except Exception as e:\n",
    "            print(f\"Ocorreu o seguinte erro: {e}\")\n",
    "            return None\n",
    "\n",
    "\n",
    "    def get_discount_percentage_if_exists(self, discount_class: str) -> str:\n",
    "        try:\n",
    "            discount_value = self._get_element_text_by_class_name(discount_class)\n",
    "\n",
    "            if discount_value:\n",
    "                discount_percentage = self._extract_percentage_string(discount_value)\n",
    "                return discount_percentage\n",
    "            \n",
    "            return discount_value\n",
    "        except NoSuchElementException:\n",
    "            return None\n",
    "        except IndexError as e:\n",
    "            return None\n",
    "        except Exception as e:\n",
    "            print(f\"Ocorreu o seguinte erro: {e}\")\n",
    "            return None\n",
    "    \n",
    "    def _get_element_text_by_class_name(self, class_name: str) -> str:\n",
    "        html_element = self.crawler.driver.find_element_by_class_name(class_name)\n",
    "        html_text = html_element.text\n",
    "\n",
    "        return html_text\n",
    "        \n",
    "    def _extract_percentage_string(self, original_string: str) -> str:\n",
    "        match_string = '\\d{1,2}%'\n",
    "        \n",
    "        matches = re.findall(match_string, original_string)\n",
    "        match = matches[0]\n",
    "\n",
    "        return match\n",
    "\n",
    "    def get_current_price_by_class(self, class_name: str) -> int:\n",
    "        try:\n",
    "            current_price_value = self._get_element_text_by_class_name(class_name)\n",
    "            formatted_price = self._price_string_to_float(current_price_value)\n",
    "            \n",
    "            return formatted_price\n",
    "        except NoSuchElementException:\n",
    "            return None\n",
    "        except ValueError:\n",
    "            print(f\"Erro na conversão de preço para inteiro\")\n",
    "            return None\n",
    "        except Exception as e:\n",
    "            print(f\"Ocorreu o seguinte erro: {e}\")\n",
    "            return None"
   ]
  },
  {
   "cell_type": "code",
   "execution_count": 5,
   "metadata": {},
   "outputs": [],
   "source": [
    "@dataclass\n",
    "class Product:\n",
    "    price: int\n",
    "    original_price: int\n",
    "    discount: str"
   ]
  },
  {
   "cell_type": "code",
   "execution_count": 6,
   "metadata": {},
   "outputs": [],
   "source": [
    "crawler = Crawler(\n",
    "    driver_path=os.path.abspath('../driver/chromedriver')\n",
    ")"
   ]
  },
  {
   "cell_type": "code",
   "execution_count": 7,
   "metadata": {},
   "outputs": [],
   "source": [
    "crawler.set_driver_options([\n",
    "    \"--disable-extensions\",\n",
    "    \"--disable-gpu\",\n",
    "    \"--no-sandbox\",\n",
    "    # \"--headless\"\n",
    "])"
   ]
  },
  {
   "cell_type": "code",
   "execution_count": 8,
   "metadata": {},
   "outputs": [],
   "source": [
    "crawler.start_crawler(implicit_wait_time=10)"
   ]
  },
  {
   "cell_type": "code",
   "execution_count": 64,
   "metadata": {},
   "outputs": [],
   "source": [
    "crawler.navigate_to_url(BASE_URL)"
   ]
  },
  {
   "cell_type": "code",
   "execution_count": 31,
   "metadata": {},
   "outputs": [],
   "source": [
    "extractor = HtmlDataExtractor(crawler=crawler)"
   ]
  },
  {
   "cell_type": "code",
   "execution_count": 47,
   "metadata": {},
   "outputs": [],
   "source": [
    "current_price_identifiers = {\n",
    "    \"xpath\": [\n",
    "        '//span[@id=\"priceblock_ourprice\"]',\n",
    "        '//span[@id=\"priceblock_dealprice\"]',\n",
    "        '//span[@id=\"priceblock_saleprice\"]',\n",
    "        '//span[contains(@class, \"a-price\")]',\n",
    "        '//span[contains(@class, \"a-size-medium\")]',\n",
    "        '//span[contains(@class, \"apexPriceToPay\")]',\n",
    "        '//span[contains(@class, \"a-text-price\")]'\n",
    "    ],\n",
    "    \"class\": [\n",
    "        \"priceBlockSavingsString\"\n",
    "    ]\n",
    "}"
   ]
  },
  {
   "cell_type": "code",
   "execution_count": 82,
   "metadata": {},
   "outputs": [
    {
     "name": "stdout",
     "output_type": "stream",
     "text": [
      "Achou identificador  //span[contains(@class, \"a-price\")]\n"
     ]
    }
   ],
   "source": [
    "current_price_identifier_type, current_price_identifier_path = extractor.find_price_identifier(current_price_identifiers)\n",
    "\n",
    "if current_price_identifier_type == \"xpath\":\n",
    "    current_price = extractor.get_product_price_by_xpath(current_price_identifier_path)\n",
    "elif current_price_identifier_type == \"class\":\n",
    "    current_price = extractor.get_current_price_by_class(current_price_identifier_path)\n",
    "else:\n",
    "    current_price = None\n",
    "\n",
    "\n",
    "\n",
    "original_price = extractor.get_original_price_if_exists('priceBlockStrikePriceString')\n",
    "discount = extractor.get_discount_percentage_if_exists('priceBlockSavingsString')"
   ]
  },
  {
   "cell_type": "code",
   "execution_count": 89,
   "metadata": {},
   "outputs": [
    {
     "data": {
      "text/plain": [
       "''"
      ]
     },
     "execution_count": 89,
     "metadata": {},
     "output_type": "execute_result"
    }
   ],
   "source": [
    "# extractor.get_discount_percentage_if_exists('a-color-price')\n",
    "crawler.driver.find_element_by_class_name('a-color-price').text"
   ]
  },
  {
   "cell_type": "code",
   "execution_count": 83,
   "metadata": {},
   "outputs": [],
   "source": [
    "if original_price is None:\n",
    "    original_price = extractor.get_product_price_by_xpath('//span[contains(@data-a-strike, \"true\")]')\n",
    "    if original_price is None:\n",
    "        original_price = current_price"
   ]
  },
  {
   "cell_type": "code",
   "execution_count": 84,
   "metadata": {},
   "outputs": [],
   "source": [
    "product = Product(\n",
    "    price=current_price,\n",
    "    original_price=original_price,\n",
    "    discount=discount\n",
    ")"
   ]
  },
  {
   "cell_type": "code",
   "execution_count": 85,
   "metadata": {},
   "outputs": [
    {
     "name": "stdout",
     "output_type": "stream",
     "text": [
      "Product(price=146990, original_price=159900, discount=None)\n"
     ]
    }
   ],
   "source": [
    "print(product)"
   ]
  },
  {
   "cell_type": "code",
   "execution_count": 23,
   "metadata": {},
   "outputs": [],
   "source": [
    "crawler.quit()"
   ]
  }
 ],
 "metadata": {
  "interpreter": {
   "hash": "a77f1f3cdfbb7681331e25f5c99ebb82474ec1672b4b606ac9c8c2af1fc78e4d"
  },
  "kernelspec": {
   "display_name": "Python 3.8.10 64-bit ('amazon-OsH_3uue': pipenv)",
   "name": "python3"
  },
  "language_info": {
   "codemirror_mode": {
    "name": "ipython",
    "version": 3
   },
   "file_extension": ".py",
   "mimetype": "text/x-python",
   "name": "python",
   "nbconvert_exporter": "python",
   "pygments_lexer": "ipython3",
   "version": "3.8.10"
  },
  "orig_nbformat": 4
 },
 "nbformat": 4,
 "nbformat_minor": 2
}
