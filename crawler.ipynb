{
 "cells": [
  {
   "cell_type": "code",
   "execution_count": 1,
   "source": [
    "import os\n",
    "import re\n",
    "from typing import Dict, List\n",
    "from dataclasses import dataclass\n",
    "\n",
    "from selenium import webdriver\n",
    "from selenium.common.exceptions import NoSuchElementException\n",
    "from selenium.webdriver.chrome.options import Options"
   ],
   "outputs": [],
   "metadata": {}
  },
  {
   "cell_type": "code",
   "execution_count": 2,
   "source": [
    "BASE_URL = \"https://www.amazon.com.br/Teclado-Microsoft-Ergonomic-Desktop-5KV-00001/dp/B01LOVXBSG/ref=sr_1_4?__mk_pt_BR=%C3%85M%C3%85%C5%BD%C3%95%C3%91&dchild=1&keywords=microsoft+sculpt&qid=1634728872&sr=8-4&ufe=app_do%3Aamzn1.fos.25548f35-0de7-44b3-b28e-0f56f3f96147\"\n",
    "# BASE_URL = \"https://www.amazon.com.br/Digitalizadoras-HUION-completo-alimenta%C3%A7%C3%A3o-Apenas/dp/B094Y154HQ/ref=gbph_img_m-2_1a49_fdb7b607?smid=A1PNQ9SOUWDGE0&pf_rd_p=e7757913-0204-414b-8da9-48a518571a49&pf_rd_s=merchandised-search-2&pf_rd_t=101&pf_rd_i=17368183011&pf_rd_m=A1ZZFT5FULY4LN&pf_rd_r=NP234CKY9D6M3FYDYP50\"\n",
    "# BASE_URL = \"https://www.amazon.com.br/dp/B0153XL4V2/ref=s9_acsd_al_bw_c2_x_4_i?pf_rd_m=A3RN7G7QC5MWSZ&pf_rd_s=merchandised-search-4&pf_rd_r=E7QD6RNE0FGXQ30GYM19&pf_rd_t=101&pf_rd_p=fc85dcac-2a76-48df-93a6-ae159abd0ec0&pf_rd_i=17351089011\"\n",
    "# BASE_URL = \"https://www.amazon.com.br/Adaptador-3x1-Tipo-c-Thunderbolt-Hdmi/dp/B077NGXPSV/?_encoding=UTF8&pd_rd_w=7friT&pf_rd_p=e824797f-48a0-405f-a37a-4e512542e9e8&pf_rd_r=Y80SFM425X6TYA9224FJ&pd_rd_r=2ec40c6d-e2f4-4c70-987b-3d7332c450d9&pd_rd_wg=ZDLF9&ref_=pd_gw_ci_mcx_mr_hp_atf_m\""
   ],
   "outputs": [],
   "metadata": {}
  },
  {
   "cell_type": "code",
   "execution_count": 3,
   "source": [
    "class Crawler:\n",
    "    def __init__(self, driver_path: str) -> None:\n",
    "        self.DRIVER_PATH: str = driver_path\n",
    "        self.driver_options: Options = Options()\n",
    "        self.driver: webdriver.Chrome = None\n",
    "\n",
    "    def set_driver_options(self, opts: List[str]):\n",
    "        for opt in opts:\n",
    "            self.driver_options.add_argument(opt)\n",
    "\n",
    "    def start_crawler(self, implicit_wait_time: int):\n",
    "        self.driver = self._start_driver()\n",
    "        self._set_driver_implicit_wait(implicit_wait_time)\n",
    "        self._maximize_driver_window()\n",
    "    \n",
    "    def _start_driver(self) -> webdriver.Chrome:\n",
    "        return webdriver.Chrome(executable_path=self.DRIVER_PATH, options=self.driver_options)\n",
    "\n",
    "    def _set_driver_implicit_wait(self, wait_time: int):\n",
    "        self.driver.implicitly_wait(wait_time)\n",
    "\n",
    "    def _maximize_driver_window(self):\n",
    "        self.driver.maximize_window()\n",
    "\n",
    "    def navigate_to_url(self, url: str):\n",
    "        self.driver.get(url)\n",
    "\n",
    "    def quit(self):\n",
    "        self.driver.quit()\n",
    "        \n"
   ],
   "outputs": [],
   "metadata": {}
  },
  {
   "cell_type": "code",
   "execution_count": 4,
   "source": [
    "class HtmlDataExtractor:\n",
    "    def __init__(self, crawler):\n",
    "        self.crawler: Crawler = crawler\n",
    "\n",
    "    def find_price_identifier(self, identifier_map: Dict[str, List[str]]) -> str:\n",
    "        for key, identifiers in identifier_map.items():\n",
    "            if key == \"xpath\":\n",
    "                for identifier in identifiers:\n",
    "                    try:\n",
    "                        element = self.crawler.driver.find_element_by_xpath(identifier)\n",
    "                        if element:\n",
    "                            return key, identifier\n",
    "                    except NoSuchElementException:\n",
    "                        pass\n",
    "            elif key == \"class\":\n",
    "                for identifier in identifiers:\n",
    "                    try:\n",
    "                        element = self.crawler.driver.find_element_by_class_name(identifier)\n",
    "                        if element:\n",
    "                            return key, identifier\n",
    "                    except NoSuchElementException:\n",
    "                        pass\n",
    "\n",
    "        return None, None\n",
    "\n",
    "    def get_product_price_by_xpath(self, price_path: str) -> int:\n",
    "        try:\n",
    "            product_price = self._get_element_text_by_xpath(price_path)\n",
    "            formatted_price = self._price_string_to_float(product_price)\n",
    "\n",
    "            return formatted_price\n",
    "        except NoSuchElementException:\n",
    "            return None\n",
    "        except ValueError:\n",
    "            print(f\"Erro na conversão de preço para inteiro\")\n",
    "            return None\n",
    "        except Exception as e:\n",
    "            print(f\"Ocorreu o seguinte erro: {e}\")\n",
    "            return None\n",
    "    \n",
    "    def _get_element_text_by_xpath(self, xpath: str) -> str:\n",
    "        html_element = self.crawler.driver.find_element_by_xpath(xpath)\n",
    "        html_text = html_element.text\n",
    "\n",
    "        return html_text\n",
    "    \n",
    "    def _price_string_to_float(self, price_string: str) -> int:\n",
    "        formatted_string = price_string.replace(\"R$\", \"\").replace(\".\", \"\").replace(\",\",\"\")\n",
    "\n",
    "        int_price = int(formatted_string.strip())\n",
    "        return int_price\n",
    "\n",
    "    def get_original_price_if_exists(self, original_price_class: str) -> int:\n",
    "        try:\n",
    "            original_price_value = self._get_element_text_by_class_name(original_price_class)\n",
    "            formatted_price = self._price_string_to_float(original_price_value)\n",
    "            \n",
    "            return formatted_price\n",
    "        except NoSuchElementException:\n",
    "            return None\n",
    "        except ValueError:\n",
    "            print(f\"Erro na conversão de preço para inteiro\")\n",
    "            return None\n",
    "        except Exception as e:\n",
    "            print(f\"Ocorreu o seguinte erro: {e}\")\n",
    "            return None\n",
    "\n",
    "\n",
    "    def get_discount_percentage_if_exists(self, discount_class: str) -> str:\n",
    "        try:\n",
    "            discount_value = self._get_element_text_by_class_name(discount_class)\n",
    "\n",
    "            if discount_value:\n",
    "                discount_percentage = self._extract_percentage_string(discount_value)\n",
    "                return discount_percentage\n",
    "            \n",
    "            return discount_value\n",
    "        except NoSuchElementException:\n",
    "            return None\n",
    "        except IndexError as e:\n",
    "            return None\n",
    "        except Exception as e:\n",
    "            print(f\"Ocorreu o seguinte erro: {e}\")\n",
    "            return None\n",
    "    \n",
    "    def _get_element_text_by_class_name(self, class_name: str) -> str:\n",
    "        html_element = self.crawler.driver.find_element_by_class_name(class_name)\n",
    "        html_text = html_element.text\n",
    "\n",
    "        return html_text\n",
    "        \n",
    "    def _extract_percentage_string(self, original_string: str) -> str:\n",
    "        match_string = '\\d{1,2}%'\n",
    "        \n",
    "        matches = re.findall(match_string, original_string)\n",
    "        match = matches[0]\n",
    "\n",
    "        return match\n",
    "\n",
    "    def get_current_price_by_class(self, class_name: str) -> int:\n",
    "        try:\n",
    "            current_price_value = self._get_element_text_by_class_name(class_name)\n",
    "            formatted_price = self._price_string_to_float(current_price_value)\n",
    "            \n",
    "            return formatted_price\n",
    "        except NoSuchElementException:\n",
    "            return None\n",
    "        except ValueError:\n",
    "            print(f\"Erro na conversão de preço para inteiro\")\n",
    "            return None\n",
    "        except Exception as e:\n",
    "            print(f\"Ocorreu o seguinte erro: {e}\")\n",
    "            return None"
   ],
   "outputs": [],
   "metadata": {}
  },
  {
   "cell_type": "code",
   "execution_count": 5,
   "source": [
    "@dataclass\n",
    "class Product:\n",
    "    price: int\n",
    "    original_price: int\n",
    "    discount: str"
   ],
   "outputs": [],
   "metadata": {}
  },
  {
   "cell_type": "code",
   "execution_count": 6,
   "source": [
    "crawler = Crawler(\n",
    "    driver_path=os.path.abspath('../driver/chromedriver')\n",
    ")"
   ],
   "outputs": [],
   "metadata": {}
  },
  {
   "cell_type": "code",
   "execution_count": 7,
   "source": [
    "crawler.set_driver_options([\n",
    "    \"--disable-extensions\",\n",
    "    \"--disable-gpu\",\n",
    "    \"--no-sandbox\",\n",
    "    # \"--headless\"\n",
    "])"
   ],
   "outputs": [],
   "metadata": {}
  },
  {
   "cell_type": "code",
   "execution_count": 8,
   "source": [
    "crawler.start_crawler(implicit_wait_time=10)"
   ],
   "outputs": [],
   "metadata": {}
  },
  {
   "cell_type": "code",
   "execution_count": 9,
   "source": [
    "crawler.navigate_to_url(BASE_URL)"
   ],
   "outputs": [],
   "metadata": {}
  },
  {
   "cell_type": "code",
   "execution_count": 10,
   "source": [
    "extractor = HtmlDataExtractor(crawler=crawler)"
   ],
   "outputs": [],
   "metadata": {}
  },
  {
   "cell_type": "code",
   "execution_count": 14,
   "source": [
    "current_price_identifiers = {\n",
    "    \"xpath\": [\n",
    "        '//span[@id=\"priceblock_ourprice\"]',\n",
    "        '//span[@id=\"priceblock_dealprice\"]',\n",
    "        '//span[@id=\"priceblock_saleprice\"]'\n",
    "    ],\n",
    "    \"class\": [\n",
    "        \"priceBlockSavingsString\"\n",
    "    ]\n",
    "}"
   ],
   "outputs": [],
   "metadata": {}
  },
  {
   "cell_type": "code",
   "execution_count": 15,
   "source": [
    "current_price_identifier_type, current_price_identifier_path = extractor.find_price_identifier(current_price_identifiers)\n",
    "\n",
    "if current_price_identifier_type == \"xpath\":\n",
    "    current_price = extractor.get_product_price_by_xpath(current_price_identifier_path)\n",
    "elif current_price_identifier_type == \"class\":\n",
    "    current_price = extractor.get_current_price_by_class(current_price_identifier_path)\n",
    "else:\n",
    "    current_price = None\n",
    "\n",
    "\n",
    "\n",
    "original_price = extractor.get_original_price_if_exists('priceBlockStrikePriceString')\n",
    "discount = extractor.get_discount_percentage_if_exists('priceBlockSavingsString')"
   ],
   "outputs": [],
   "metadata": {}
  },
  {
   "cell_type": "code",
   "execution_count": 16,
   "source": [
    "current_price"
   ],
   "outputs": [
    {
     "output_type": "execute_result",
     "data": {
      "text/plain": [
       "105881"
      ]
     },
     "metadata": {},
     "execution_count": 16
    }
   ],
   "metadata": {}
  },
  {
   "cell_type": "code",
   "execution_count": 13,
   "source": [
    "product = Product(\n",
    "    price=current_price,\n",
    "    original_price=original_price,\n",
    "    discount=discount\n",
    ")"
   ],
   "outputs": [],
   "metadata": {}
  },
  {
   "cell_type": "code",
   "execution_count": 14,
   "source": [
    "print(product)"
   ],
   "outputs": [
    {
     "output_type": "stream",
     "name": "stdout",
     "text": [
      "Product(price=27000, original_price=None, discount=None)\n"
     ]
    }
   ],
   "metadata": {}
  },
  {
   "cell_type": "code",
   "execution_count": 23,
   "source": [
    "crawler.quit()"
   ],
   "outputs": [],
   "metadata": {}
  }
 ],
 "metadata": {
  "orig_nbformat": 4,
  "language_info": {
   "name": "python",
   "version": "3.8.10",
   "mimetype": "text/x-python",
   "codemirror_mode": {
    "name": "ipython",
    "version": 3
   },
   "pygments_lexer": "ipython3",
   "nbconvert_exporter": "python",
   "file_extension": ".py"
  },
  "kernelspec": {
   "name": "python3",
   "display_name": "Python 3.8.10 64-bit ('amazon-OsH_3uue': pipenv)"
  },
  "interpreter": {
   "hash": "3cb1c71e3f197d16da3e3c918b873f4de28065e548398b643a3221f817fcc1ec"
  }
 },
 "nbformat": 4,
 "nbformat_minor": 2
}